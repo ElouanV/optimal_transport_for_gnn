{
 "cells": [
  {
   "cell_type": "code",
   "execution_count": 1,
   "outputs": [],
   "source": [
    "from median_approx import median_approximation\n",
    "from tools import build_graphs_from_file, relabel_graph_to_mutag, show_graph\n",
    "from lib.ot_distances import Fused_Gromov_Wasserstein_distance\n",
    "\n",
    "mutag_labels = [\"C\", \"O\", \"Cl\", \"H\", \"N\", \"F\", \"Br\", \"S\", \"P\", \"I\", \"Na\", \"K\", \"Li\", \"Ca\"]"
   ],
   "metadata": {
    "collapsed": false,
    "pycharm": {
     "name": "#%%\n"
    }
   }
  },
  {
   "cell_type": "code",
   "execution_count": 2,
   "outputs": [],
   "source": [
    "def graph_distance(graph1, graph2, alpha=0.9):\n",
    "    return Fused_Gromov_Wasserstein_distance(alpha=alpha, features_metric='dirac', method='shortest_path').graph_d(\n",
    "        graph1, graph2)"
   ],
   "metadata": {
    "collapsed": false,
    "pycharm": {
     "name": "#%%\n"
    }
   }
  },
  {
   "cell_type": "code",
   "execution_count": 3,
   "outputs": [],
   "source": [
    "rule = \"23\"\n",
    "cls = 0\n",
    "alpha = 0.90\n",
    "a = \"90\""
   ],
   "metadata": {
    "collapsed": false,
    "pycharm": {
     "name": "#%%\n"
    }
   }
  },
  {
   "cell_type": "code",
   "execution_count": 4,
   "outputs": [
    {
     "name": "stdout",
     "output_type": "stream",
     "text": [
      "Mean size of graphs: [9.14756447 9.59137056]\n"
     ]
    },
    {
     "data": {
      "text/plain": "3490"
     },
     "execution_count": 4,
     "metadata": {},
     "output_type": "execute_result"
    }
   ],
   "source": [
    "path_to_active_egos = \"../activ_ego/mutag_\" + rule + \"labels_egos.txt\"\n",
    "graphs_cls, means_number_of_nodes = build_graphs_from_file(path_to_active_egos)\n",
    "graphs = graphs_cls[cls]\n",
    "len(graphs)"
   ],
   "metadata": {
    "collapsed": false,
    "pycharm": {
     "name": "#%%\n"
    }
   }
  },
  {
   "cell_type": "code",
   "execution_count": 5,
   "outputs": [],
   "source": [
    "def show_graph(g, save = False):\n",
    "        show_graph(relabel_graph_to_mutag(g, mutag_labels), name=\"median_graph\", layout=\"kamada_kawai\", title=\"median graph\", save=save)"
   ],
   "metadata": {
    "collapsed": false,
    "pycharm": {
     "name": "#%%\n"
    }
   }
  },
  {
   "cell_type": "code",
   "execution_count": null,
   "outputs": [
    {
     "name": "stderr",
     "output_type": "stream",
     "text": [
      "/home/elouan/epita/lrde/optimal_transport_for_gnn/src/lib/graph.py:145: FutureWarning: adjacency_matrix will return a scipy.sparse array instead of a matrix in Networkx 3.0.\n",
      "  A = nx.adjacency_matrix(self.nx_graph)\n"
     ]
    }
   ],
   "source": [
    "show_graph(median_approximation(graphs, alpha=0.9, t=10E-10))"
   ],
   "metadata": {
    "collapsed": false,
    "pycharm": {
     "name": "#%%\n",
     "is_executing": true
    }
   }
  },
  {
   "cell_type": "code",
   "execution_count": null,
   "outputs": [],
   "source": [],
   "metadata": {
    "collapsed": false,
    "pycharm": {
     "name": "#%%\n"
    }
   }
  }
 ],
 "metadata": {
  "kernelspec": {
   "display_name": "Python 3",
   "language": "python",
   "name": "python3"
  },
  "language_info": {
   "codemirror_mode": {
    "name": "ipython",
    "version": 2
   },
   "file_extension": ".py",
   "mimetype": "text/x-python",
   "name": "python",
   "nbconvert_exporter": "python",
   "pygments_lexer": "ipython2",
   "version": "2.7.6"
  }
 },
 "nbformat": 4,
 "nbformat_minor": 0
}